{
  "nbformat": 4,
  "nbformat_minor": 0,
  "metadata": {
    "colab": {
      "provenance": [],
      "authorship_tag": "ABX9TyN8+5RKFi0aumqvdml/o8dH",
      "include_colab_link": true
    },
    "kernelspec": {
      "name": "python3",
      "display_name": "Python 3"
    },
    "language_info": {
      "name": "python"
    }
  },
  "cells": [
    {
      "cell_type": "markdown",
      "metadata": {
        "id": "view-in-github",
        "colab_type": "text"
      },
      "source": [
        "<a href=\"https://colab.research.google.com/github/hariskhan-hk/sales_data_2023/blob/main/Task.ipynb\" target=\"_parent\"><img src=\"https://colab.research.google.com/assets/colab-badge.svg\" alt=\"Open In Colab\"/></a>"
      ]
    },
    {
      "cell_type": "code",
      "execution_count": 136,
      "metadata": {
        "colab": {
          "base_uri": "https://localhost:8080/"
        },
        "id": "x73Sl1fRwbjJ",
        "outputId": "f820ffc9-0174-43e6-88b2-855d6581bd72"
      },
      "outputs": [
        {
          "output_type": "execute_result",
          "data": {
            "text/plain": [
              "25000"
            ]
          },
          "metadata": {},
          "execution_count": 136
        }
      ],
      "source": [
        "import sqlite3\n",
        "import pandas as pd\n",
        "from sqlalchemy import create_engine\n",
        "file = '/content/Analytics Case Study - Launchpad 2024 (Dataset).xlsx'\n",
        "engine = create_engine('sqlite://', echo = False)\n",
        "df = pd.read_excel(file, sheet_name = 'Sales data')\n",
        "df.to_sql('sales_data', engine, index=False, if_exists='replace')"
      ]
    },
    {
      "cell_type": "markdown",
      "source": [
        "# **Task 1. Data Exploration**\n",
        "\n",
        "Write SQL queries for the following tasks and provide a brief summary of key findings including:\n",
        "\n",
        "● Total number of orders\n",
        "\n",
        "● Total sales revenue\n",
        "\n",
        "● Average order quantity\n",
        "\n",
        "● Distribution of orders by warehouse and store\n",
        "\n",
        "● Topselling items"
      ],
      "metadata": {
        "id": "2-mTl54w7M6p"
      }
    },
    {
      "cell_type": "code",
      "source": [
        "#Total Number Of Orders\n",
        "\n",
        "total_orders = \"\"\"\n",
        "SELECT COUNT(DISTINCT order_number) AS total_orders\n",
        "FROM sales_data\n",
        "\"\"\"\n",
        "\n",
        "total_orders_result = pd.read_sql_query(total_orders, engine)\n",
        "print(\"Total Number Of Orders:\", total_orders_result['total_orders'][0])"
      ],
      "metadata": {
        "colab": {
          "base_uri": "https://localhost:8080/"
        },
        "id": "BqVEIMm4xnoO",
        "outputId": "38e83481-dc68-4058-cafc-55c45dfbd09e"
      },
      "execution_count": 137,
      "outputs": [
        {
          "output_type": "stream",
          "name": "stdout",
          "text": [
            "Total Number Of Orders: 7495\n"
          ]
        }
      ]
    },
    {
      "cell_type": "code",
      "source": [
        "#Total Sales Revenue\n",
        "\n",
        "sales_revenue = \"\"\"\n",
        "SELECT ROUND(SUM((ordered_quantity * amount_per_unit) - item_discount), 3) AS sales_revenue\n",
        "FROM sales_data\n",
        "WHERE order_status = 'CLOSED'\n",
        "\"\"\"\n",
        "\n",
        "sales_revenue_result = pd.read_sql_query(sales_revenue, engine)\n",
        "print(\"Total Sales Revenue:\", sales_revenue_result['sales_revenue'][0])"
      ],
      "metadata": {
        "colab": {
          "base_uri": "https://localhost:8080/"
        },
        "id": "S7w_GgSa7-2J",
        "outputId": "99c3bb12-e433-4fd0-d825-e19a15fb105a"
      },
      "execution_count": 138,
      "outputs": [
        {
          "output_type": "stream",
          "name": "stdout",
          "text": [
            "Total Sales Revenue: 88403552.725\n"
          ]
        }
      ]
    },
    {
      "cell_type": "code",
      "source": [
        "#Average Order Quantity\n",
        "\n",
        "avg_order_quantity = \"\"\"\n",
        "SELECT ROUND(AVG(ordered_quantity),3) AS avg_order_quantity\n",
        "FROM sales_data\n",
        "WHERE order_status = 'CLOSED'\"\"\"\n",
        "\n",
        "avg_order_quantity_result = pd.read_sql_query(avg_order_quantity, engine)\n",
        "print(\"Average order quantity:\", avg_order_quantity_result['avg_order_quantity'][0])"
      ],
      "metadata": {
        "colab": {
          "base_uri": "https://localhost:8080/"
        },
        "id": "cgvdqRTg948h",
        "outputId": "d2731b1a-00aa-4ba8-9a63-314d9f476c6b"
      },
      "execution_count": 139,
      "outputs": [
        {
          "output_type": "stream",
          "name": "stdout",
          "text": [
            "Average order quantity: 6.225\n"
          ]
        }
      ]
    },
    {
      "cell_type": "code",
      "source": [
        "# Distribution of Orders by Warehouse and Store\n",
        "\n",
        "dist_orders = \"\"\"\n",
        "SELECT store_id, order_warehouse_id, COUNT(order_number) AS distribution\n",
        "FROM sales_data\n",
        "GROUP BY store_id, order_warehouse_id\n",
        "\"\"\"\n",
        "\n",
        "dist_orders_result = pd.read_sql_query(dist_orders, engine)\n",
        "print(\"Distribution of Orders by Warehouse and Store:\", dist_orders_result)"
      ],
      "metadata": {
        "colab": {
          "base_uri": "https://localhost:8080/"
        },
        "id": "b3CqtF_EAtLK",
        "outputId": "e891511c-5459-4771-b4df-22baf01d8987"
      },
      "execution_count": 140,
      "outputs": [
        {
          "output_type": "stream",
          "name": "stdout",
          "text": [
            "Distribution of Orders by Warehouse and Store:                     store_id  order_warehouse_id  distribution\n",
            "0     107AMOMq2NHOR5P0tw3KS5                11.0            19\n",
            "1      10DptMbyzPdOdVyEKdYrz                 3.0             1\n",
            "2     10IIYaIzgnFB5AfffemGLh                 3.0             1\n",
            "3     10KvNYoKwU50tyq1jyTLmZ                11.0             2\n",
            "4     10MWcgxPhNFWbnrc72JJ0k                 9.0             1\n",
            "...                      ...                 ...           ...\n",
            "6660   zYIQTaetDkoL3LKtxyagf                 8.0             1\n",
            "6661   zYiOuc8B5E09MkIFrL7r6                 3.0             4\n",
            "6662   zlSNMboC1m0qlcBItpCfX                11.0             2\n",
            "6663   zsxmkTOVQCV2YADhCU3EF                 3.0             1\n",
            "6664   zyOYpOejtfb6gP38fb2VH                 9.0             4\n",
            "\n",
            "[6665 rows x 3 columns]\n"
          ]
        }
      ]
    },
    {
      "cell_type": "code",
      "source": [
        "#Top Selling Items\n",
        "\n",
        "top_selling_items = \"\"\"\n",
        "SELECT item_id, SUM(ordered_quantity) AS top_selling_items\n",
        "FROM sales_data\n",
        "GROUP BY item_id\n",
        "ORDER BY ordered_quantity DESC\n",
        "LIMIT 10\n",
        "\"\"\"\n",
        "top_selling_items_result = pd.read_sql_query(top_selling_items, engine)\n",
        "print(\"Top Selling Items:\")\n",
        "print(top_selling_items_result)"
      ],
      "metadata": {
        "colab": {
          "base_uri": "https://localhost:8080/"
        },
        "id": "1HAEcQ0oErN0",
        "outputId": "f2bedf57-a31a-4954-95d8-1f8571cb0940"
      },
      "execution_count": 141,
      "outputs": [
        {
          "output_type": "stream",
          "name": "stdout",
          "text": [
            "Top Selling Items:\n",
            "                   item_id  top_selling_items\n",
            "0  P2RwFPjdKJ0oFr9OoVmrDRm             400000\n",
            "1      P255207028829621388               1896\n",
            "2      P431219087541607447               1595\n",
            "3      P881311747325487679               5006\n",
            "4      P020682599695596471               1012\n",
            "5           P5532071329948                620\n",
            "6           P5678188036252                516\n",
            "7  P7EuMEqNrLfjaPC1nvEUqsB                500\n",
            "8  P34CUAnLDL0uw3j0Hb3piTs                500\n",
            "9      P693454584530622583                481\n"
          ]
        }
      ]
    },
    {
      "cell_type": "markdown",
      "source": [
        "# **Task 2. Analytical Questions**\n",
        "\n",
        " Answer the following analytical questions using SQL queries:\n",
        "\n",
        " ● What is the overall discount rate (average discount per item sold)?\n",
        "\n",
        " ● Which warehouse has the highest average order value (total sales revenue divided by number of orders)?\n",
        "\n",
        " ● What is the total revenue generated by each store?\n",
        "\n",
        " ● Identify the top 5 customers (based on total amount spent).\n",
        "\n",
        " ● Calculate the month-over-month growth rate of sales revenue.\n",
        "\n",
        " ● Determine the percentage of orders that were canceled."
      ],
      "metadata": {
        "id": "HrQUYqLxF7ER"
      }
    },
    {
      "cell_type": "code",
      "source": [
        "#Overall Discount Rate (Average Discount per Item Sold)\n",
        "\n",
        "avg_discount_query = \"\"\"\n",
        "SELECT ROUND(SUM(item_discount) / SUM(ordered_quantity), 3) AS avg_discount_per_item\n",
        "FROM sales_data\n",
        "WHERE order_status = 'CLOSED'\n",
        "\"\"\"\n",
        "\n",
        "avg_discount_result = pd.read_sql_query(avg_discount_query, engine)\n",
        "print(\"Overall Discount Rate:\", avg_discount_result['avg_discount_per_item'][0])\n"
      ],
      "metadata": {
        "colab": {
          "base_uri": "https://localhost:8080/"
        },
        "id": "0r4ti5gVG4aX",
        "outputId": "8a8a66e9-7f8f-469e-e3c8-8fc117f831bb"
      },
      "execution_count": 142,
      "outputs": [
        {
          "output_type": "stream",
          "name": "stdout",
          "text": [
            "Overall Discount Rate: 7.204\n"
          ]
        }
      ]
    },
    {
      "cell_type": "code",
      "source": [
        "#Warehouse that has the Highest Average Order Value\n",
        "\n",
        "highest_avg_order_value = \"\"\"\n",
        "SELECT order_warehouse_id, SUM(ordered_quantity * amount_per_unit - item_discount) / COUNT(order_number) AS avg_order_value\n",
        "FROM sales_data\n",
        "WHERE order_status = 'CLOSED'\n",
        "GROUP BY order_warehouse_id\n",
        "ORDER BY avg_order_value DESC\n",
        "LIMIT 1\n",
        "\"\"\"\n",
        "\n",
        "highest_avg_order_value_result = pd.read_sql_query(highest_avg_order_value, engine)\n",
        "\n",
        "print(\"Warehouse with the Highest Average Order Value:\")\n",
        "print(highest_avg_order_value_result)\n"
      ],
      "metadata": {
        "colab": {
          "base_uri": "https://localhost:8080/"
        },
        "id": "bRBqXhRGKkKs",
        "outputId": "012c1e5b-b03a-4f52-ea0e-e4f62ee55634"
      },
      "execution_count": 143,
      "outputs": [
        {
          "output_type": "stream",
          "name": "stdout",
          "text": [
            "Warehouse with the Highest Average Order Value:\n",
            "   order_warehouse_id  avg_order_value\n",
            "0                39.0          31737.5\n"
          ]
        }
      ]
    },
    {
      "cell_type": "code",
      "source": [
        "#Total Revenue Generated by Each Store\n",
        "\n",
        "total_revenue = \"\"\"\n",
        "SELECT store_id, SUM(ordered_quantity * amount_per_unit - item_discount) AS total_revenue\n",
        "FROM sales_data\n",
        "WHERE order_status = 'CLOSED'\n",
        "GROUP BY store_id\n",
        "ORDER BY total_revenue DESC\n",
        "\"\"\"\n",
        "\n",
        "total_revenue_result = pd.read_sql_query(total_revenue, engine)\n",
        "\n",
        "print(\"Total Revenue Generated by Each Store:\")\n",
        "print(total_revenue_result)"
      ],
      "metadata": {
        "colab": {
          "base_uri": "https://localhost:8080/"
        },
        "id": "m0ewwh9bMW5G",
        "outputId": "b68b423e-301d-44bf-8f29-b7a54dc9ac33"
      },
      "execution_count": 144,
      "outputs": [
        {
          "output_type": "stream",
          "name": "stdout",
          "text": [
            "Total Revenue Generated by Each Store:\n",
            "                    store_id  total_revenue\n",
            "0     4PdVF4u8WXhO4xnSMCYIzs      2560000.0\n",
            "1     49WcD3UqaC72tOQ6tood3n      2030000.0\n",
            "2     6FFhVY8Ujlw7dpqveE2UTh      1836788.0\n",
            "3     6nEbvZQMYLEkxxN4JwVmEq      1819875.0\n",
            "4     6p39aRrK34DT9A8RWEhSCk      1145000.0\n",
            "...                      ...            ...\n",
            "6219  2aT27c876xy27l3yIHwBTl           19.0\n",
            "6220  161qnFBoEc2sfX09u2lDS2           19.0\n",
            "6221  7K0YfPJsklVbEXSdB8kKh0           17.0\n",
            "6222  2J30oJg68EqdlAuD12xAUL           17.0\n",
            "6223  6JcPkFhr4qnFeFeJbgUCIv            5.0\n",
            "\n",
            "[6224 rows x 2 columns]\n"
          ]
        }
      ]
    },
    {
      "cell_type": "code",
      "source": [
        "#Top 5 Customers (Based on Total Amount Spent)\n",
        "\n",
        "top_customers = \"\"\"\n",
        "SELECT order_number, SUM((ordered_quantity * amount_per_unit) - item_discount) AS total_spent\n",
        "FROM sales_data\n",
        "WHERE order_status = 'CLOSED'\n",
        "GROUP BY order_number\n",
        "ORDER BY total_spent DESC\n",
        "LIMIT 5;\n",
        "\"\"\"\n",
        "top_customers_result = pd.read_sql_query(top_customers, engine)\n",
        "\n",
        "print(\"Top 5 Customers Based on Total Amount Spent:\")\n",
        "print(top_customers_result)"
      ],
      "metadata": {
        "colab": {
          "base_uri": "https://localhost:8080/"
        },
        "id": "Un7xY8BhN0BL",
        "outputId": "d467d841-e25a-43d1-b5d2-1a64e787dbea"
      },
      "execution_count": 145,
      "outputs": [
        {
          "output_type": "stream",
          "name": "stdout",
          "text": [
            "Top 5 Customers Based on Total Amount Spent:\n",
            "   order_number  total_spent\n",
            "0   23046539355    2030000.0\n",
            "1   23053505151    1821600.0\n",
            "2   23053458040    1814400.0\n",
            "3   23038626816    1280000.0\n",
            "4   23038135646    1280000.0\n"
          ]
        }
      ]
    },
    {
      "cell_type": "code",
      "source": [
        "#Month-over-month Growth Rate of Sales Revenue\n",
        "\n",
        "growth_rate = \"\"\"\n",
        "SELECT strftime('%m-%Y', order_date) AS month_year, SUM(ordered_quantity * amount_per_unit - item_discount) AS monthly_revenue\n",
        "FROM sales_data\n",
        "WHERE order_status = 'CLOSED'\n",
        "GROUP BY strftime('%m-%Y', order_date)\n",
        "ORDER BY month_year;\n",
        "\"\"\"\n",
        "\n",
        "monthly_revenue_df = pd.read_sql_query(growth_rate, engine)\n",
        "\n",
        "monthly_revenue_df['prev_month_revenue'] = monthly_revenue_df['monthly_revenue'].shift(1)\n",
        "monthly_revenue_df['growth_rate'] = ((monthly_revenue_df['monthly_revenue'] - monthly_revenue_df['prev_month_revenue']) / monthly_revenue_df['prev_month_revenue']) * 100\n",
        "\n",
        "print(monthly_revenue_df)"
      ],
      "metadata": {
        "colab": {
          "base_uri": "https://localhost:8080/"
        },
        "id": "xvJjdfsaUHg5",
        "outputId": "a18a2f57-594f-4203-c5f1-a0ce077fdf20"
      },
      "execution_count": 146,
      "outputs": [
        {
          "output_type": "stream",
          "name": "stdout",
          "text": [
            "   month_year  monthly_revenue  prev_month_revenue  growth_rate\n",
            "0        None     5.128246e+07                 NaN          NaN\n",
            "1     01-2023     3.428816e+06        5.128246e+07   -93.313862\n",
            "2     02-2023     3.767157e+06        3.428816e+06     9.867557\n",
            "3     03-2023     3.499129e+06        3.767157e+06    -7.114852\n",
            "4     04-2023     2.639829e+06        3.499129e+06   -24.557541\n",
            "5     05-2023     9.445302e+05        2.639829e+06   -64.220023\n",
            "6     06-2023     3.077181e+06        9.445302e+05   225.789593\n",
            "7     07-2023     7.703175e+06        3.077181e+06   150.332215\n",
            "8     08-2023     3.189381e+06        7.703175e+06   -58.596543\n",
            "9     09-2023     2.792474e+06        3.189381e+06   -12.444639\n",
            "10    10-2023     1.727613e+06        2.792474e+06   -38.133235\n",
            "11    11-2023     3.164308e+06        1.727613e+06    83.160679\n",
            "12    12-2023     1.187497e+06        3.164308e+06   -62.472153\n"
          ]
        }
      ]
    },
    {
      "cell_type": "code",
      "source": [
        "# Percentage of Cancelled Orders\n",
        "percentage_cancelled_orders_query = \"\"\"\n",
        "SELECT\n",
        "    (SELECT COUNT(*) FROM sales_data WHERE order_status = 'CANCELLED') * 100.0 /\n",
        "    (SELECT COUNT(*) FROM sales_data) AS Percentage_cancelled_orders;\n",
        "\"\"\"\n",
        "\n",
        "percentage_cancelled_orders_result = pd.read_sql_query(percentage_cancelled_orders_query, engine)\n",
        "\n",
        "print(\"Percentage of Cancelled Orders:\")\n",
        "print(percentage_cancelled_orders_result['Percentage_cancelled_orders'][0])"
      ],
      "metadata": {
        "colab": {
          "base_uri": "https://localhost:8080/"
        },
        "id": "Jh4wJHm1XUlM",
        "outputId": "a8506541-9bfb-4373-d012-f8800b5780b9"
      },
      "execution_count": 147,
      "outputs": [
        {
          "output_type": "stream",
          "name": "stdout",
          "text": [
            "Percentage of Cancelled Orders:\n",
            "5.516\n"
          ]
        }
      ]
    }
  ]
}